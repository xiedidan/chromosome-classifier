{
 "cells": [
  {
   "cell_type": "markdown",
   "metadata": {},
   "source": [
    "# class picker\n",
    "\n",
    "class 0 - good  \n",
    "class 1 - bad  \n"
   ]
  },
  {
   "cell_type": "code",
   "execution_count": 1,
   "metadata": {},
   "outputs": [],
   "source": [
    "import os\n",
    "import shutil\n",
    "import random\n"
   ]
  },
  {
   "cell_type": "code",
   "execution_count": 2,
   "metadata": {},
   "outputs": [],
   "source": [
    "# const\n",
    "\n",
    "data_root = '/home/voyager/data/chromosome/'\n",
    "\n",
    "sample_path = os.path.join(data_root, 'raw/sample')\n",
    "karyo_path = os.path.join(data_root, 'raw/karyo')\n",
    "\n",
    "val_ratio = 0.1\n"
   ]
  },
  {
   "cell_type": "code",
   "execution_count": 3,
   "metadata": {},
   "outputs": [
    {
     "name": "stdout",
     "output_type": "stream",
     "text": [
      "class 0: 5075, class 1: 78194\n"
     ]
    }
   ],
   "source": [
    "# create both class list\n",
    "\n",
    "karyo_list = os.listdir(karyo_path)\n",
    "sample_list = os.listdir(sample_path)\n",
    "\n",
    "class_list = [[], []]\n",
    "\n",
    "for sample in sample_list:\n",
    "    if sample not in karyo_list:\n",
    "        class_list[1].append(sample)\n",
    "    elif sample in karyo_list:\n",
    "        class_list[0].append(sample)\n",
    "\n",
    "\n",
    "print('class 0: {}, class 1: {}'.format(\n",
    "    len(class_list[0]),\n",
    "    len(class_list[1])\n",
    "))\n"
   ]
  },
  {
   "cell_type": "code",
   "execution_count": 4,
   "metadata": {},
   "outputs": [],
   "source": [
    "# sample 10% as val\n",
    "\n",
    "val_class_list = [\n",
    "    random.sample(class_list[0], int(len(class_list[0]) * val_ratio)),\n",
    "    random.sample(class_list[1], int(len(class_list[1]) * val_ratio))\n",
    "]\n",
    "\n",
    "train_class_list = [[], []]\n",
    "\n",
    "for sample in class_list[0]:\n",
    "    if sample not in val_class_list[0]:\n",
    "        train_class_list[0].append(sample)\n",
    "        \n",
    "for sample in class_list[1]:\n",
    "    if sample not in val_class_list[1]:\n",
    "        train_class_list[1].append(sample)\n",
    "        "
   ]
  },
  {
   "cell_type": "code",
   "execution_count": 5,
   "metadata": {},
   "outputs": [],
   "source": [
    "# copy pic to dataset\n",
    "\n",
    "for class_no in range(len(class_list)):\n",
    "    for filename in class_list[class_no]:\n",
    "        if filename in train_class_list[class_no]:\n",
    "            src = os.path.join(sample_path, filename)\n",
    "            dst = os.path.join(data_root, 'train/{}/{}'.format(class_no, filename))\n",
    "            \n",
    "            shutil.copy(src, dst)\n",
    "        else:\n",
    "            src = os.path.join(sample_path, filename)\n",
    "            dst = os.path.join(data_root, 'val/{}/{}'.format(class_no, filename))\n",
    "            \n",
    "            shutil.copy(src, dst)\n"
   ]
  },
  {
   "cell_type": "code",
   "execution_count": null,
   "metadata": {},
   "outputs": [],
   "source": []
  }
 ],
 "metadata": {
  "kernelspec": {
   "display_name": "Python 3",
   "language": "python",
   "name": "python3"
  },
  "language_info": {
   "codemirror_mode": {
    "name": "ipython",
    "version": 3
   },
   "file_extension": ".py",
   "mimetype": "text/x-python",
   "name": "python",
   "nbconvert_exporter": "python",
   "pygments_lexer": "ipython3",
   "version": "3.6.7"
  }
 },
 "nbformat": 4,
 "nbformat_minor": 2
}
