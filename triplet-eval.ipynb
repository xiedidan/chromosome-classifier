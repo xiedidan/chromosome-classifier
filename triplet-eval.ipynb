{
 "cells": [
  {
   "cell_type": "markdown",
   "metadata": {},
   "source": [
    "# Triplet Evaluation  \n",
    "\n",
    "评价Triplet Loss表示训练的结果。  \n",
    "1. 查看标签的Embedding分布  \n",
    "2. 查看图片的Embedding分布  \n",
    "3. GMM的分布  \n"
   ]
  },
  {
   "cell_type": "code",
   "execution_count": 1,
   "metadata": {},
   "outputs": [],
   "source": [
    "%reload_ext autoreload\n",
    "%autoreload 2\n",
    "%matplotlib widget\n",
    "\n",
    "import sys\n",
    "import os\n",
    "import pickle\n",
    "import argparse\n",
    "import itertools\n",
    "from datetime import datetime\n",
    "import gc\n",
    "import csv\n",
    "\n",
    "import torch\n",
    "import torch.nn as nn\n",
    "import torch.optim as optim\n",
    "from torch.optim import lr_scheduler\n",
    "import torch.nn.functional as F\n",
    "import torch.backends.cudnn as cudnn\n",
    "import torch.nn.init as init\n",
    "import torchvision\n",
    "import torchvision.models as models\n",
    "import torchvision.transforms as transforms\n",
    "from torch.utils.data import Dataset\n",
    "\n",
    "from apex import amp\n",
    "import cv2\n",
    "import numpy as np\n",
    "from PIL import Image\n",
    "from matplotlib import pyplot as plt\n",
    "from tqdm import tqdm\n",
    "import multiprocessing as mp\n",
    "from tensorboardX import SummaryWriter\n",
    "import pandas as pd\n",
    "from sklearn.decomposition import PCA\n",
    "from sklearn.discriminant_analysis import LinearDiscriminantAnalysis as LDA\n",
    "from sklearn.discriminant_analysis import QuadraticDiscriminantAnalysis as QDA\n",
    "from sklearn.manifold import TSNE\n",
    "from sklearn import mixture\n",
    "from sklearn.utils.fixes import logsumexp\n",
    "from mpl_toolkits.mplot3d import Axes3D\n",
    "import matplotlib\n",
    "\n",
    "from datasets.utils import BalancedBatchSampler\n",
    "from datasets.simple import *\n",
    "from utils import AllTripletSelector, HardestNegativeTripletSelector, RandomNegativeTripletSelector, SemihardNegativeTripletSelector # Strategies for selecting triplets within a minibatch\n",
    "from losses import OnlineTripletLoss\n",
    "from metrics import AverageNonzeroTripletsMetric\n",
    "from resnet import *\n",
    "from transforms import *\n",
    "from plot import *\n",
    "from autoencoder import *\n",
    "from network import *\n"
   ]
  },
  {
   "cell_type": "code",
   "execution_count": 2,
   "metadata": {},
   "outputs": [],
   "source": [
    "# const\n",
    "\n",
    "margin = 1.\n",
    "class_mapping = {\n",
    "    'chromosome': 0,\n",
    "    'cell': 1,\n",
    "    'impurity': 2\n",
    "}\n",
    "n_classes=len(class_mapping.keys())"
   ]
  },
  {
   "cell_type": "code",
   "execution_count": 3,
   "metadata": {},
   "outputs": [],
   "source": [
    "# config\n",
    "\n",
    "batch_size = 128 # actual batch size = 128 // 3 * 3\n",
    "device = torch.device('cuda:1')\n",
    "img_size = 256\n",
    "\n",
    "data_root = '/home/xd/data/chromosome'\n",
    "anno_paths = [\n",
    "    'anno_round-1.csv',\n",
    "    'anno_round-2.csv'\n",
    "]\n",
    "img_path = 'neg-chunk'\n",
    "\n",
    "checkpoint = './models/EmbeddingNet-2-8.pth'"
   ]
  },
  {
   "cell_type": "code",
   "execution_count": 4,
   "metadata": {},
   "outputs": [],
   "source": [
    "# create a embedding resnet\n",
    "    \n",
    "resnet = models.resnet34(pretrained=True)\n",
    "model = EmbeddingNet(resnet, margin)\n",
    "\n",
    "model.load_state_dict(torch.load(checkpoint, map_location='cpu'))\n",
    "\n",
    "model = model.to(device)"
   ]
  },
  {
   "cell_type": "code",
   "execution_count": 5,
   "metadata": {},
   "outputs": [
    {
     "name": "stdout",
     "output_type": "stream",
     "text": [
      "4275\n",
      "3732\n",
      "                    filename     class\n",
      "0  L1903012841.010.A_100.jpg  impurity\n",
      "1    L1903012841.060.A_2.jpg  impurity\n",
      "2   L1903012841.060.A_31.jpg  impurity\n",
      "3   L1903012841.060.A_58.jpg  impurity\n",
      "4    L1903012841.063.A_0.jpg  impurity\n"
     ]
    }
   ],
   "source": [
    "# data\n",
    "\n",
    "val_transform = transforms.Compose([\n",
    "    PadOrCrop(img_size),\n",
    "    transforms.ToTensor(),\n",
    "    ChannelExpand()\n",
    "])\n",
    "\n",
    "val_dataset = ChunkDataset(data_root, img_path, anno_paths, class_mapping, transform=val_transform)\n",
    "\n",
    "val_loader = torch.utils.data.DataLoader(\n",
    "    val_dataset,\n",
    "    batch_size=batch_size,\n",
    "    shuffle=False,\n",
    "    num_workers=8,\n",
    "    pin_memory=True\n",
    ")"
   ]
  },
  {
   "cell_type": "code",
   "execution_count": 6,
   "metadata": {},
   "outputs": [],
   "source": [
    "cluster_num = 5\n",
    "color_iter = itertools.cycle(['navy', 'c', 'cornflowerblue', 'gold', 'darkorange'])\n",
    "\n",
    "def draw_clusters_2d(clusters, cluster_num, embeddings, colors):\n",
    "    embeddings = embeddings[:, :2]\n",
    "    \n",
    "    fig = plt.figure(figsize=(8,6))\n",
    "    ax = fig.add_subplot(1, 1, 1)\n",
    "\n",
    "    for g, c in zip(range(cluster_num), colors):\n",
    "        condlist = clusters == g\n",
    "        cluster = np.compress(condlist, embeddings, axis=0)\n",
    "\n",
    "        x, y = cluster.transpose()\n",
    "\n",
    "        ax.scatter(x, y, c=c)\n",
    "\n",
    "    plt.show()"
   ]
  },
  {
   "cell_type": "code",
   "execution_count": 7,
   "metadata": {},
   "outputs": [],
   "source": [
    "cluster_num = 5\n",
    "color_iter = itertools.cycle(['navy', 'c', 'cornflowerblue', 'gold', 'darkorange'])\n",
    "\n",
    "def draw_clusters_3d(clusters, cluster_num, embeddings):\n",
    "    fig = plt.figure(1, figsize=(8,6))\n",
    "    ax = Axes3D(fig)\n",
    "    \n",
    "    ax.scatter(\n",
    "        embeddings[:, 0],\n",
    "        embeddings[:, 1],\n",
    "        embeddings[:, 2],\n",
    "        c=clusters,\n",
    "        cmap=plt.cm.Set1,\n",
    "        edgecolor='k',\n",
    "        s=40\n",
    "    )\n",
    "    ax.set_title(\"draw_clusters_3d\")\n",
    "    ax.set_xlabel(\"X\")\n",
    "    # ax.w_xaxis.set_ticklabels([])\n",
    "    ax.set_ylabel(\"Y\")\n",
    "    # ax.w_yaxis.set_ticklabels([])\n",
    "    ax.set_zlabel(\"Z\")\n",
    "    # ax.w_zaxis.set_ticklabels([])\n",
    "\n",
    "    plt.show()"
   ]
  },
  {
   "cell_type": "code",
   "execution_count": 8,
   "metadata": {},
   "outputs": [],
   "source": [
    "PIC_SIZE = 6400\n",
    "\n",
    "def draw_pics(embeddings, filenames):\n",
    "    fig = plt.figure(figsize=(32,32))\n",
    "    ax = fig.add_subplot(1, 1, 1)\n",
    "    \n",
    "    img = np.full((PIC_SIZE, PIC_SIZE, 3), 255)\n",
    "    \n",
    "    rois = []\n",
    "    \n",
    "    xs, ys = embeddings.transpose()\n",
    "    x_max = np.max(xs)\n",
    "    x_min = np.min(xs)\n",
    "    y_max = np.max(ys)\n",
    "    y_min = np.min(ys)\n",
    "    x_range = x_max - x_min\n",
    "    y_range = y_max - y_min\n",
    "    \n",
    "    for embedding, filename in zip(embeddings, filenames):\n",
    "        roi_img = cv2.imread(filename)\n",
    "        w, h, _ = roi_img.shape\n",
    "        \n",
    "        x = int(((embedding[0] - x_min) / x_range) * PIC_SIZE)\n",
    "        y = int(((embedding[1] - y_min) / y_range) * PIC_SIZE)\n",
    "        \n",
    "        if (x+w <= PIC_SIZE) and (y+h <= PIC_SIZE):\n",
    "            img[x:x+w, y:y+h, ...] = roi_img\n",
    "            \n",
    "    ax.imshow(img)\n",
    "    plt.show()\n",
    "    cv2.imwrite('pic.jpg', img)"
   ]
  },
  {
   "cell_type": "code",
   "execution_count": 9,
   "metadata": {},
   "outputs": [
    {
     "name": "stdout",
     "output_type": "stream",
     "text": [
      "  0%|          | 0/15 [00:02<?, ?it/s]\n"
     ]
    },
    {
     "ename": "RuntimeError",
     "evalue": "CUDA out of memory. Tried to allocate 192.00 MiB (GPU 0; 7.93 GiB total capacity; 84.16 MiB already allocated; 180.31 MiB free; 23.84 MiB cached)",
     "output_type": "error",
     "traceback": [
      "\u001b[0;31m---------------------------------------------------------------------------\u001b[0m",
      "\u001b[0;31mRuntimeError\u001b[0m                              Traceback (most recent call last)",
      "\u001b[0;32m<ipython-input-9-ed35b9bab8b0>\u001b[0m in \u001b[0;36m<module>\u001b[0;34m\u001b[0m\n\u001b[1;32m      6\u001b[0m     \u001b[0;32mwith\u001b[0m \u001b[0mtqdm\u001b[0m\u001b[0;34m(\u001b[0m\u001b[0mtotal\u001b[0m\u001b[0;34m=\u001b[0m\u001b[0mlen\u001b[0m\u001b[0;34m(\u001b[0m\u001b[0mval_loader\u001b[0m\u001b[0;34m)\u001b[0m\u001b[0;34m,\u001b[0m \u001b[0mfile\u001b[0m\u001b[0;34m=\u001b[0m\u001b[0msys\u001b[0m\u001b[0;34m.\u001b[0m\u001b[0mstdout\u001b[0m\u001b[0;34m)\u001b[0m \u001b[0;32mas\u001b[0m \u001b[0mpbar\u001b[0m\u001b[0;34m:\u001b[0m\u001b[0;34m\u001b[0m\u001b[0;34m\u001b[0m\u001b[0m\n\u001b[1;32m      7\u001b[0m         \u001b[0;32mfor\u001b[0m \u001b[0mimgs\u001b[0m\u001b[0;34m,\u001b[0m \u001b[0mlabels\u001b[0m \u001b[0;32min\u001b[0m \u001b[0mval_loader\u001b[0m\u001b[0;34m:\u001b[0m\u001b[0;34m\u001b[0m\u001b[0;34m\u001b[0m\u001b[0m\n\u001b[0;32m----> 8\u001b[0;31m             \u001b[0mimgs\u001b[0m \u001b[0;34m=\u001b[0m \u001b[0mimgs\u001b[0m\u001b[0;34m.\u001b[0m\u001b[0mto\u001b[0m\u001b[0;34m(\u001b[0m\u001b[0mdevice\u001b[0m\u001b[0;34m)\u001b[0m\u001b[0;34m\u001b[0m\u001b[0;34m\u001b[0m\u001b[0m\n\u001b[0m\u001b[1;32m      9\u001b[0m \u001b[0;34m\u001b[0m\u001b[0m\n\u001b[1;32m     10\u001b[0m             \u001b[0mlogits\u001b[0m \u001b[0;34m=\u001b[0m \u001b[0mmodel\u001b[0m\u001b[0;34m(\u001b[0m\u001b[0mimgs\u001b[0m\u001b[0;34m)\u001b[0m\u001b[0;34m\u001b[0m\u001b[0;34m\u001b[0m\u001b[0m\n",
      "\u001b[0;31mRuntimeError\u001b[0m: CUDA out of memory. Tried to allocate 192.00 MiB (GPU 0; 7.93 GiB total capacity; 84.16 MiB already allocated; 180.31 MiB free; 23.84 MiB cached)"
     ]
    }
   ],
   "source": [
    "# get embeddings\n",
    "\n",
    "epoch_logits = []\n",
    "\n",
    "with torch.no_grad():\n",
    "    with tqdm(total=len(val_loader), file=sys.stdout) as pbar:\n",
    "        for imgs, labels in val_loader:\n",
    "            imgs = imgs.to(device)\n",
    "\n",
    "            logits = model(imgs)\n",
    "            logits = logits.detach().cpu()\n",
    "\n",
    "            epoch_logits.append(logits)\n",
    "\n",
    "            pbar.update(1)\n",
    "\n",
    "        epoch_logits = torch.cat(epoch_logits)"
   ]
  },
  {
   "cell_type": "code",
   "execution_count": null,
   "metadata": {},
   "outputs": [],
   "source": [
    "clusters = list(val_dataset.anno_df['class'])\n",
    "clusters = np.array([class_mapping[class_name] for class_name in clusters])"
   ]
  },
  {
   "cell_type": "code",
   "execution_count": null,
   "metadata": {},
   "outputs": [],
   "source": [
    "# PCA\n",
    "\n",
    "pca = PCA()\n",
    "pca_logits = pca.fit_transform(epoch_logits)"
   ]
  },
  {
   "cell_type": "code",
   "execution_count": null,
   "metadata": {},
   "outputs": [],
   "source": [
    "draw_clusters_3d(clusters, cluster_num, pca_logits)"
   ]
  },
  {
   "cell_type": "code",
   "execution_count": null,
   "metadata": {},
   "outputs": [],
   "source": [
    "draw_clusters_2d(clusters, cluster_num, pca_logits, color_iter)"
   ]
  },
  {
   "cell_type": "code",
   "execution_count": 30,
   "metadata": {},
   "outputs": [],
   "source": [
    "# gmm\n",
    "\n",
    "def train_pca_gmm(logits, dim, labels, num_classes):\n",
    "    gmms = []\n",
    "    \n",
    "    for class_no in range(num_classes):\n",
    "        cls_logits = []\n",
    "        \n",
    "        for i, label in enumerate(labels):\n",
    "            if label == class_no:\n",
    "                cls_logits.append(logits[i, :dim])\n",
    "                \n",
    "        cls_logits = torch.stack(cls_logits, dim=0).cpu().numpy()\n",
    "\n",
    "        cls_gmm = mixture.BayesianGaussianMixture(\n",
    "            n_components=1,\n",
    "            covariance_type='full'\n",
    "        ).fit(cls_logits)\n",
    "    \n",
    "        gmms.append(cls_gmm)\n",
    "        \n",
    "    return gmms"
   ]
  },
  {
   "cell_type": "code",
   "execution_count": null,
   "metadata": {},
   "outputs": [],
   "source": []
  }
 ],
 "metadata": {
  "kernelspec": {
   "display_name": "Python (chromo)",
   "language": "python",
   "name": "chromo"
  },
  "language_info": {
   "codemirror_mode": {
    "name": "ipython",
    "version": 3
   },
   "file_extension": ".py",
   "mimetype": "text/x-python",
   "name": "python",
   "nbconvert_exporter": "python",
   "pygments_lexer": "ipython3",
   "version": "3.7.6"
  },
  "widgets": {
   "application/vnd.jupyter.widget-state+json": {
    "state": {
     "b66562493f6b47b18e2ad6bf23ab3ba9": {
      "model_module": "@jupyter-widgets/base",
      "model_module_version": "1.2.0",
      "model_name": "LayoutModel",
      "state": {}
     },
     "eb28b266b6f047ff9a9215479a699b7c": {
      "model_module": "@jupyter-widgets/base",
      "model_module_version": "1.2.0",
      "model_name": "LayoutModel",
      "state": {}
     }
    },
    "version_major": 2,
    "version_minor": 0
   }
  }
 },
 "nbformat": 4,
 "nbformat_minor": 4
}
