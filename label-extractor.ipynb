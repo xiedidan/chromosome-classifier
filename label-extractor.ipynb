{
 "cells": [
  {
   "cell_type": "markdown",
   "metadata": {},
   "source": [
    "# Label Extractor\n",
    "\n",
    "With this label extractor, we could label (part of) blood cell and impurity with morphological features. Filter parameters should be tuned to make the label set relatively clean. These samples are simple, but they do contain visional features that could be extracted by deep CNN network.  \n",
    "Then we could easily label the rest samples by hand, by pointing out the cell, impurity and mixture.  \n",
    "\n",
    "Then, use the labels to train deep CNN classifer network.  \n",
    "The classifier could be used as an encoder, to map image into embedding space.  \n",
    "\n",
    "Then we train a GMM (with the embeddings), and aim for the following samples:  \n",
    "1. samples with low probability  \n",
    "2. samples with relatively high probability for multiple clusters  \n",
    "\n",
    "In both situations, the focused samples are hard. We could label them and boost the classifier by finetuning.  \n",
    "\n",
    "However, we may find that some classes are in the same cluster. That means these classes are indistinct. It is unlikely to happen, since we could differentiate (at least part of) them even with morphological features.\n"
   ]
  },
  {
   "cell_type": "code",
   "execution_count": 1,
   "metadata": {},
   "outputs": [],
   "source": [
    "%reload_ext autoreload\n",
    "%autoreload 2\n",
    "%matplotlib inline\n",
    "\n",
    "import sys\n",
    "import os\n",
    "import pickle\n",
    "import argparse\n",
    "import itertools\n",
    "from datetime import datetime\n",
    "import gc\n",
    "\n",
    "import torch\n",
    "import torch.nn as nn\n",
    "import torch.optim as optim\n",
    "import torch.nn.functional as F\n",
    "import torch.backends.cudnn as cudnn\n",
    "import torch.nn.init as init\n",
    "import torchvision\n",
    "import torchvision.models as models\n",
    "import torchvision.transforms as transforms\n",
    "\n",
    "import cv2\n",
    "import numpy as np\n",
    "from PIL import Image\n",
    "from matplotlib import pyplot as plt\n",
    "from tqdm import tqdm\n",
    "import multiprocessing as mp\n",
    "\n",
    "from datasets.simple import *\n",
    "from resnet import *\n",
    "from transforms import *\n",
    "from plot import *"
   ]
  },
  {
   "cell_type": "code",
   "execution_count": 2,
   "metadata": {},
   "outputs": [],
   "source": [
    "BINARY_THRESHOLD = 225\n",
    "\n",
    "NOISE_THRESHOLD = 200\n",
    "OPENING_KERNEL_SIZE = 5\n",
    "HUGE_THRESHOLD = 30000\n",
    "\n",
    "CIRCULARITY_THRESHOLD = 0.65\n",
    "\n",
    "CELL_THRESHOLD = 7500\n",
    "\n",
    "DBSCAN_EPS = 200\n",
    "DBSCAN_SAMPLES = 5"
   ]
  },
  {
   "cell_type": "code",
   "execution_count": 3,
   "metadata": {},
   "outputs": [],
   "source": [
    "SAMPLE_COUNT = -1\n",
    "\n",
    "data_root = '../../data/chromosome'\n",
    "\n",
    "sample_path = os.path.join(data_root, 'raw/sample')\n",
    "# chunk_path = os.path.join(data_root, 'neg_chunk')\n",
    "\n",
    "chunk_path = '/media/ssd-ext4/neg-chunk'\n",
    "\n",
    "if not os.path.exists(chunk_path):\n",
    "    os.mkdir(chunk_path)\n",
    "    \n",
    "image_list = os.listdir(sample_path)[:SAMPLE_COUNT]\n"
   ]
  },
  {
   "cell_type": "code",
   "execution_count": 4,
   "metadata": {},
   "outputs": [],
   "source": [
    "class LabelExtractor:\n",
    "    def __init__(\n",
    "        self,\n",
    "        binary_threshold=225,\n",
    "        noise_threshold=200,\n",
    "        opening_kernel_size=5,\n",
    "        huge_threshold=30000,\n",
    "        circularity_threshold=0.65,\n",
    "        cell_threshold=7500,\n",
    "        dbscan_eps=200,\n",
    "        dbscan_samples=5\n",
    "    ):\n",
    "        self.binary_threshold = binary_threshold\n",
    "        self.noise_threshold = noise_threshold\n",
    "        self.opening_kernel_size = opening_kernel_size\n",
    "        self.huge_threshold = huge_threshold\n",
    "        self.circularity_threshold = circularity_threshold\n",
    "        self.cell_threshold = cell_threshold\n",
    "        self.dbscan_eps = dbscan_eps\n",
    "        self.dbscan_samples = dbscan_samples\n",
    "        \n",
    "    def __call__(self, img):\n",
    "        gray = cv2.cvtColor(img, cv2.COLOR_BGR2GRAY)\n",
    "\n",
    "        b_img = binaryzation(gray, self.binary_threshold)\n",
    "        o_img = opening(b_img, self.opening_kernel_size)\n",
    "        clear_indexes, areas, contours = denoise(o_img, self.noise_threshold)\n",
    "        indexes = huge_filter(clear_indexes, areas, huge_threshold=self.huge_threshold)\n",
    "        indexes = cell_filter(indexes, areas, contours, self.circularity_threshold, self.cell_threshold)\n",
    "        indexes = dbscan_filter(indexes, contours, self.dbscan_eps, self.dbscan_samples, [gray.shape[1], gray.shape[0]])\n",
    "        \n",
    "        label_indexes = []\n",
    "        \n",
    "        for clear_index in clear_indexes:\n",
    "            if clear_index not in indexes:\n",
    "                label_indexes.append(clear_index)       \n",
    "        \n",
    "        return gray, label_indexes, contours\n",
    "    "
   ]
  },
  {
   "cell_type": "code",
   "execution_count": 5,
   "metadata": {},
   "outputs": [],
   "source": [
    "extractor = LabelExtractor()\n",
    "\n",
    "def extract_neg_chunks(raw_filename):\n",
    "    img = cv2.imread(os.path.join(sample_path, raw_filename))\n",
    "    gray, indexes, contours = extractor(img)\n",
    "    \n",
    "    arr = raw_filename.rsplit('.', 1)\n",
    "    file_id = arr[0]\n",
    "    \n",
    "    neg_list = []\n",
    "    \n",
    "    for i in indexes:\n",
    "        contour = contours[i]\n",
    "\n",
    "        # create mask\n",
    "        mask = np.zeros_like(gray)\n",
    "        cv2.drawContours(mask, contours, i, 255, -1)\n",
    "\n",
    "        # apply mask\n",
    "        new_img = np.full_like(gray, 255)\n",
    "        np.copyto(new_img, gray, where=(mask>127))\n",
    "\n",
    "        # create bbox & crop roi\n",
    "        x, y, w, h = cv2.boundingRect(contour)\n",
    "        roi = new_img[y:y+h, x:x+w]\n",
    "\n",
    "        # write to file\n",
    "        filename = '{}_{}.jpg'.format(os.path.join(chunk_path, file_id), i)\n",
    "        cv2.imwrite(filename, roi)\n",
    "        \n",
    "        neg_list.append(filename)\n",
    "        \n",
    "    return neg_list"
   ]
  },
  {
   "cell_type": "code",
   "execution_count": 6,
   "metadata": {},
   "outputs": [
    {
     "name": "stdout",
     "output_type": "stream",
     "text": [
      "100%|██████████| 83268/83268 [09:43<00:00, 142.75it/s]\n"
     ]
    }
   ],
   "source": [
    "pool = mp.Pool()\n",
    "\n",
    "neg_lists = list(tqdm(\n",
    "    pool.imap_unordered(extract_neg_chunks, image_list),\n",
    "    total=len(image_list),\n",
    "    file=sys.stdout\n",
    "))\n",
    "\n",
    "neg_record = {}\n",
    "for image_filename, neg_list in zip(image_list, neg_lists):\n",
    "    neg_record[image_filename] = neg_list\n",
    "    \n",
    "torch.save(neg_record, 'neg_record.pth')"
   ]
  },
  {
   "cell_type": "code",
   "execution_count": 22,
   "metadata": {},
   "outputs": [],
   "source": [
    "# serial process, keep for debugging\n",
    "\n",
    "neg_record = {}\n",
    "\n",
    "for image_filename in image_list:\n",
    "    neg_list = extract_neg_chunks(extractor, sample_path, chunk_path, image_filename)\n",
    "    neg_record[image_filename] = neg_list\n",
    "    \n",
    "torch.save(neg_record, 'neg_record.pth')"
   ]
  },
  {
   "cell_type": "code",
   "execution_count": null,
   "metadata": {},
   "outputs": [],
   "source": []
  }
 ],
 "metadata": {
  "kernelspec": {
   "display_name": "Python (tgs)",
   "language": "python",
   "name": "tgs"
  },
  "language_info": {
   "codemirror_mode": {
    "name": "ipython",
    "version": 3
   },
   "file_extension": ".py",
   "mimetype": "text/x-python",
   "name": "python",
   "nbconvert_exporter": "python",
   "pygments_lexer": "ipython3",
   "version": "3.6.8"
  }
 },
 "nbformat": 4,
 "nbformat_minor": 2
}
