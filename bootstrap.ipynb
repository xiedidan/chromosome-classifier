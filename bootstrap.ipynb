{
 "cells": [
  {
   "cell_type": "markdown",
   "metadata": {},
   "source": [
    "# Bootstrap classifier training\n",
    "\n",
    "### Classes  \n",
    "```\n",
    "0. background  \n",
    "1. chromosome  \n",
    "2. cell  \n",
    "3. impurity\n",
    "4. mixture\n",
    "```\n",
    "\n",
    "### How to label the data?  \n",
    "Write a python script to show each sample, and click on one of the class buttons.  \n",
    "There should be a 'not sure' button.  \n",
    "Record result in VOC format (for each sample).  \n",
    "\n",
    "### Loss  \n",
    "cross entropy  \n",
    "\n",
    "### Activation  \n",
    "softmax  \n",
    "\n",
    "### Workflow  \n",
    "```\n",
    "label the data -> training -> pick hard sample -|\n",
    "^                                               |\n",
    "|-----------------------------------------------|\n",
    "```"
   ]
  },
  {
   "cell_type": "code",
   "execution_count": null,
   "metadata": {},
   "outputs": [],
   "source": []
  }
 ],
 "metadata": {
  "kernelspec": {
   "display_name": "Python (tgs)",
   "language": "python",
   "name": "tgs"
  },
  "language_info": {
   "codemirror_mode": {
    "name": "ipython",
    "version": 3
   },
   "file_extension": ".py",
   "mimetype": "text/x-python",
   "name": "python",
   "nbconvert_exporter": "python",
   "pygments_lexer": "ipython3",
   "version": "3.6.8"
  }
 },
 "nbformat": 4,
 "nbformat_minor": 2
}
