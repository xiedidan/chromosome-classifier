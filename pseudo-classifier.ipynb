{
 "cells": [
  {
   "cell_type": "markdown",
   "metadata": {},
   "source": [
    "# Classifier Trained with Pseudo Labels\n",
    "\n",
    "假标签包含噪声，并且Cluster也不是真的分类，这个时候是否需要对Embedding空间进行度量学习？是否进行表示学习？\n",
    "包含FC的分类器又该如何训练？\n",
    "分类器到底学习到了什么？\n",
    "是否可以利用对抗学习？\n",
    "\n",
    "从分类器整体的角度看，是利用NN去学习Encoder+Gram+DBSCAN，其中包含了人工设定的DBSCAN参数。  \n",
    "假设我们进行Embedding度量学习，就是说希望让Cluster的Embedding能够聚集，但Cluster并不是真实的Label。  \n",
    "从理论上讲，如果网络足够大，那么就可以拟合到噪声"
   ]
  }
 ],
 "metadata": {
  "kernelspec": {
   "display_name": "Python (tgs)",
   "language": "python",
   "name": "tgs"
  },
  "language_info": {
   "codemirror_mode": {
    "name": "ipython",
    "version": 3
   },
   "file_extension": ".py",
   "mimetype": "text/x-python",
   "name": "python",
   "nbconvert_exporter": "python",
   "pygments_lexer": "ipython3",
   "version": "3.6.8"
  }
 },
 "nbformat": 4,
 "nbformat_minor": 2
}
