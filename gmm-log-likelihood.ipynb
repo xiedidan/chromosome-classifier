{
 "cells": [
  {
   "cell_type": "markdown",
   "metadata": {},
   "source": [
    "# GMM log likelihood research\n",
    "\n",
    "考虑网络主要区分度在2-3维内，是否可以降维到2-3维，再做GMM，这样就可以可视化了  \n",
    "但是怎么降维？  \n",
    "有可能各类之间，分布的方向并不一致，PCA是反应了总体方差最大的投影平面（但不一定是每个类差别最大的投影平面）  \n",
    "那么如果每个类找一个PCA投影平面？。。。是不是用Tier GMM就可以保证一个类的投影平面一致（共用一个协方差矩阵）？可以，但是所有Component都是一样的，肯定不Ok。  \n",
    "能不能每一个Component找一个投影平面？是否用它的协方差矩阵就可以（应该是可以）  \n",
    "\n",
    "如何利用GMM进行检验？  \n",
    "可以计算目标点的马氏距离，从而计算出似然度（sklearn是否已经有似然度实现？）  \n",
    "之前的实验中，发现大部分数据概率密度极低，是否似然度也就是全部=0？  \n",
    "为什么大部分数据概率密度极低？是否是说PCA是必须的？  \n",
    "\n",
    "GMM的限制  \n",
    "一个是GMM对于非高斯分布不太有效，比如瑞士卷这种比较复杂的流形，可以拟合但是效果不太好  "
   ]
  },
  {
   "cell_type": "code",
   "execution_count": 1,
   "metadata": {},
   "outputs": [],
   "source": [
    "from mpl_toolkits.mplot3d import Axes3D"
   ]
  },
  {
   "cell_type": "code",
   "execution_count": null,
   "metadata": {},
   "outputs": [],
   "source": []
  }
 ],
 "metadata": {
  "kernelspec": {
   "display_name": "Python (pytorch)",
   "language": "python",
   "name": "pytorch"
  },
  "language_info": {
   "codemirror_mode": {
    "name": "ipython",
    "version": 3
   },
   "file_extension": ".py",
   "mimetype": "text/x-python",
   "name": "python",
   "nbconvert_exporter": "python",
   "pygments_lexer": "ipython3",
   "version": "3.7.5"
  }
 },
 "nbformat": 4,
 "nbformat_minor": 4
}
